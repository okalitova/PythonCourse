{
 "cells": [
  {
   "cell_type": "code",
   "execution_count": 74,
   "metadata": {
    "collapsed": false
   },
   "outputs": [
    {
     "data": {
      "text/plain": [
       "[(1, 1, 2),\n",
       " (1, 2, 5),\n",
       " (1, 3, 10),\n",
       " (1, 4, 17),\n",
       " (1, 5, 26),\n",
       " (2, 2, 8),\n",
       " (2, 3, 13),\n",
       " (2, 4, 20),\n",
       " (2, 5, 29),\n",
       " (3, 3, 18),\n",
       " (3, 4, 25)]"
      ]
     },
     "execution_count": 74,
     "metadata": {},
     "output_type": "execute_result"
    }
   ],
   "source": [
    "n = 30\n",
    "[(x, y, x ** 2 + y ** 2) for x in range(1, n + 1) for y in range(x, n + 1) if x ** 2 + y ** 2 <= n]"
   ]
  },
  {
   "cell_type": "code",
   "execution_count": 43,
   "metadata": {
    "collapsed": false
   },
   "outputs": [],
   "source": [
    "filename = \"seminar1.txt\"\n",
    "\n",
    "le_dict = {}\n",
    "\n",
    "with open(filename) as f:\n",
    "    for line in f:\n",
    "        line = line[:-1]\n",
    "        word, translations = line.split(\" - \")\n",
    "        translations = translations.split(\", \")\n",
    "        for translation in translations:\n",
    "            if translation in le_dict:\n",
    "                le_dict[translation].add(word)\n",
    "            else:\n",
    "                le_dict[translation] = set()\n",
    "                le_dict[translation].add(word)\n",
    "                \n",
    "with open(\"output.txt\", 'w') as f:                \n",
    "    for k, v in sorted(le_dict.items()):\n",
    "        translations = \", \".join(v)\n",
    "        f.write(\" - \".join([k, translations]) + \"\\n\")"
   ]
  },
  {
   "cell_type": "code",
   "execution_count": 72,
   "metadata": {
    "collapsed": false
   },
   "outputs": [
    {
     "name": "stdout",
     "output_type": "stream",
     "text": [
      "initrd.img 19819481\n",
      "initrd.img.old 19816507\n",
      "vmlinuz 6592048\n",
      "vmlinuz.old 6591152\n",
      "0 0\n"
     ]
    }
   ],
   "source": [
    "import os\n",
    "import sys\n",
    "\n",
    "path = \"/\"#sys.argv[1]\n",
    "inside_path = os.listdir(path) \n",
    "files = []\n",
    "for smth in inside_path:\n",
    "    path_to_smth = os.path.join(path, smth)\n",
    "    if os.path.isfile(path_to_smth):\n",
    "        files.append((smth, path_to_smth))\n",
    "        \n",
    "def file_size(file):\n",
    "    filename, path_to_file = file\n",
    "    return [os.stat(path_to_file).st_size, filename]\n",
    "\n",
    "for file in sorted(files, key=file_size, reverse=True):\n",
    "    print(file[0], file_size(file)[0])"
   ]
  },
  {
   "cell_type": "code",
   "execution_count": 90,
   "metadata": {
    "collapsed": false
   },
   "outputs": [
    {
     "name": "stdout",
     "output_type": "stream",
     "text": [
      "424 [0, 6954, 29135, 45233, 79686]\n"
     ]
    }
   ],
   "source": [
    "import sys\n",
    "\n",
    "filename = \"pi.txt\"\n",
    "\n",
    "with open(filename) as f:\n",
    "    digits = f.read()[2:]\n",
    "    \n",
    "digits = \"\".join(digits.split(\"\\n\"))\n",
    "\n",
    "sub_digits = \"1415\"\n",
    "\n",
    "indices = []\n",
    "index = -1  \n",
    "while True:\n",
    "    index = digits.find(sub_digits, index + 1)\n",
    "    if index == -1:  \n",
    "        break\n",
    "    indices.append(index)\n",
    "print(len(indices), indices[:5])"
   ]
  },
  {
   "cell_type": "code",
   "execution_count": null,
   "metadata": {
    "collapsed": false
   },
   "outputs": [],
   "source": []
  },
  {
   "cell_type": "code",
   "execution_count": null,
   "metadata": {
    "collapsed": true
   },
   "outputs": [],
   "source": []
  }
 ],
 "metadata": {
  "anaconda-cloud": {},
  "kernelspec": {
   "display_name": "Python [default]",
   "language": "python",
   "name": "python3"
  },
  "language_info": {
   "codemirror_mode": {
    "name": "ipython",
    "version": 3
   },
   "file_extension": ".py",
   "mimetype": "text/x-python",
   "name": "python",
   "nbconvert_exporter": "python",
   "pygments_lexer": "ipython3",
   "version": "3.5.2"
  }
 },
 "nbformat": 4,
 "nbformat_minor": 1
}
