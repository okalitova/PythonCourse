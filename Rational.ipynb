{
 "cells": [
  {
   "cell_type": "code",
   "execution_count": 170,
   "metadata": {
    "collapsed": false
   },
   "outputs": [],
   "source": [
    "import sys\n",
    "\n",
    "\n",
    "class Rational:\n",
    "    def gcd(self, a, b):\n",
    "        a = abs(a)\n",
    "        b = abs(b)\n",
    "        if a > b:\n",
    "            c = b\n",
    "            b = a\n",
    "            a = c\n",
    "        if a == 0:\n",
    "            return b\n",
    "        else:\n",
    "            return self.gcd(a, b % a)\n",
    "\n",
    "    def norm(self, ratio):\n",
    "        gcd = self.gcd(ratio.numerator, ratio.denominator)\n",
    "        ratio.numerator = int(ratio.numerator / gcd)\n",
    "        ratio.denominator = int(ratio.denominator / gcd)\n",
    "        if ratio.denominator < 0:\n",
    "            ratio.numerator = -ratio.numerator\n",
    "            ratio.denominator = -ratio.denominator\n",
    "        return ratio\n",
    "\n",
    "    def __init__(self, *args):\n",
    "        if len(args) == 0:\n",
    "            self.numerator = 0\n",
    "            self.denominator = 1\n",
    "        elif len(args) == 2 and args[1] != 0:\n",
    "            self.numerator = args[0]\n",
    "            self.denominator = args[1]\n",
    "            if self.denominator < 0:\n",
    "                self.numerator = -self.numerator\n",
    "                self.denominator = -self.denominator\n",
    "            gcd = self.gcd(self.numerator, self.denominator)\n",
    "            self.numerator = int(self.numerator / gcd)\n",
    "            self.denominator = int(self.denominator / gcd)\n",
    "        elif len(args) == 1:\n",
    "            self.numerator = args[0]\n",
    "            self.denominator = 1\n",
    "        else:\n",
    "            raise RuntimeError(\"Wrong number of parameters\")\n",
    "\n",
    "    def __add__(self, other):\n",
    "        res = Rational()\n",
    "        res.numerator = self.numerator * other.denominator + self.denominator * other.numerator\n",
    "        res.denominator = self.denominator * other.denominator\n",
    "        res = self.norm(res)\n",
    "        return res\n",
    "\n",
    "    def __mul__(self, other):\n",
    "        res = Rational()\n",
    "        res.numerator = self.numerator * other.numerator\n",
    "        res.denominator = self.denominator * other.denominator\n",
    "        res = self.norm(res)\n",
    "        return res\n",
    "\n",
    "    def __truediv__(self, other):\n",
    "        res = Rational()\n",
    "        res.numerator = self.numerator * other.denominator\n",
    "        res.denominator = self.denominator * other.numerator\n",
    "        res = self.norm(res)\n",
    "        return res\n",
    "\n",
    "    def __neg__(self):\n",
    "        res = Rational()\n",
    "        res.numerator = - self.numerator\n",
    "        res.denominator = self.denominator\n",
    "        res = self.norm(res)\n",
    "        return res\n",
    "\n",
    "    def __sub__(self, other):\n",
    "        res = self + (-other)\n",
    "        res = self.norm(res)\n",
    "        return res\n",
    "\n",
    "    def __eq__(self, other):\n",
    "        if self.numerator == other.numerator and self.denominator == other.denominator:\n",
    "            return True\n",
    "        else:\n",
    "            return False\n",
    "\n",
    "    def __ne__(self, other):\n",
    "        return not (self == other)\n",
    "\n",
    "    def __str__(self):\n",
    "        if self.numerator >= 0:\n",
    "            return str(self.numerator) + \"/\" + str(self.denominator)\n",
    "        else:\n",
    "            return \"-\" + str(-self.numerator) + \"/\" + str(self.denominator)\n",
    "\n",
    "exec(sys.stdin.read())"
   ]
  },
  {
   "cell_type": "code",
   "execution_count": 171,
   "metadata": {
    "collapsed": false
   },
   "outputs": [
    {
     "name": "stdout",
     "output_type": "stream",
     "text": [
      "False\n",
      "True\n",
      "True\n",
      "False\n"
     ]
    }
   ],
   "source": [
    "print((Rational(1, 3) == Rational(1, 4)))\n",
    "print((Rational(2, 3) == Rational(4, 6)))\n",
    "print((Rational(1, 3) != Rational(1, 4)))\n",
    "print((Rational(2, 3) != Rational(4, 6)))"
   ]
  },
  {
   "cell_type": "code",
   "execution_count": null,
   "metadata": {
    "collapsed": true
   },
   "outputs": [],
   "source": []
  }
 ],
 "metadata": {
  "anaconda-cloud": {},
  "kernelspec": {
   "display_name": "Python [conda root]",
   "language": "python",
   "name": "conda-root-py"
  },
  "language_info": {
   "codemirror_mode": {
    "name": "ipython",
    "version": 3
   },
   "file_extension": ".py",
   "mimetype": "text/x-python",
   "name": "python",
   "nbconvert_exporter": "python",
   "pygments_lexer": "ipython3",
   "version": "3.5.2"
  }
 },
 "nbformat": 4,
 "nbformat_minor": 1
}
