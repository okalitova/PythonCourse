{
 "cells": [
  {
   "cell_type": "code",
   "execution_count": 134,
   "metadata": {
    "collapsed": false
   },
   "outputs": [
    {
     "ename": "ValueError",
     "evalue": "invalid literal for int() with base 10: '\"Hello,'",
     "output_type": "error",
     "traceback": [
      "\u001b[0;31m---------------------------------------------------------------------------\u001b[0m",
      "\u001b[0;31mValueError\u001b[0m                                Traceback (most recent call last)",
      "\u001b[0;32m<ipython-input-134-c1c6f8d0e12c>\u001b[0m in \u001b[0;36m<module>\u001b[0;34m()\u001b[0m\n\u001b[1;32m      4\u001b[0m \u001b[0;34m\u001b[0m\u001b[0m\n\u001b[1;32m      5\u001b[0m \u001b[0mnumbers\u001b[0m \u001b[0;34m=\u001b[0m \u001b[0mmyfile\u001b[0m\u001b[0;34m.\u001b[0m\u001b[0mread\u001b[0m\u001b[0;34m(\u001b[0m\u001b[0;34m)\u001b[0m\u001b[0;34m.\u001b[0m\u001b[0msplit\u001b[0m\u001b[0;34m(\u001b[0m\u001b[0;34m)\u001b[0m\u001b[0;34m\u001b[0m\u001b[0m\n\u001b[0;32m----> 6\u001b[0;31m \u001b[0mnumbers\u001b[0m \u001b[0;34m=\u001b[0m \u001b[0;34m[\u001b[0m\u001b[0mint\u001b[0m\u001b[0;34m(\u001b[0m\u001b[0mn\u001b[0m\u001b[0;34m)\u001b[0m \u001b[0;32mfor\u001b[0m \u001b[0mn\u001b[0m \u001b[0;32min\u001b[0m \u001b[0mnumbers\u001b[0m\u001b[0;34m]\u001b[0m\u001b[0;34m\u001b[0m\u001b[0m\n\u001b[0m\u001b[1;32m      7\u001b[0m \u001b[0;34m\u001b[0m\u001b[0m\n\u001b[1;32m      8\u001b[0m \u001b[0;32mdef\u001b[0m \u001b[0mmerge_sort\u001b[0m\u001b[0;34m(\u001b[0m\u001b[0mx\u001b[0m\u001b[0;34m,\u001b[0m \u001b[0ml\u001b[0m\u001b[0;34m,\u001b[0m \u001b[0mr\u001b[0m\u001b[0;34m)\u001b[0m\u001b[0;34m:\u001b[0m\u001b[0;34m\u001b[0m\u001b[0m\n",
      "\u001b[0;31mValueError\u001b[0m: invalid literal for int() with base 10: '\"Hello,'"
     ]
    }
   ],
   "source": [
    "import sys \n",
    "#import no_standard_sort\n",
    "myfile = open('input.txt', 'r')   # The file is newly created where foo.py is\n",
    "\n",
    "numbers = myfile.read().split()\n",
    "numbers = [int(n) for n in numbers]\n",
    "\n",
    "def merge_sort(x, l, r):\n",
    "    if l == r:\n",
    "        return [x[0]]\n",
    "    m = (l + r) / 2\n",
    "    x_1 = merge_sort(x[:(m + 1)], l, m)\n",
    "    x_2 = merge_sort(x[(m + 1):], 0, r - m - 1)\n",
    "    cur_1 = 0\n",
    "    cur_2 = 0\n",
    "    ans = []\n",
    "    while cur_1 < len(x_1) and cur_2 < len(x_2):\n",
    "        if (x_1[cur_1] < x_2[cur_2]):\n",
    "            ans.append(x_1[cur_1])\n",
    "            cur_1 = cur_1 + 1\n",
    "        else:\n",
    "            ans.append(x_2[cur_2])\n",
    "            cur_2 = cur_2 + 1\n",
    "    for i in range(cur_1, len(x_1)):\n",
    "        ans.append(x_1[i])\n",
    "    for i in range(cur_2, len(x_2)):\n",
    "        ans.append(x_2[i])\n",
    "    return ans\n",
    "\n",
    "if len(numbers) == 0:\n",
    "    print \"\"\n",
    "else:\n",
    "    ans = merge_sort(numbers, 0, len(numbers) - 1)\n",
    "    for a in ans:\n",
    "        print a,\n"
   ]
  },
  {
   "cell_type": "code",
   "execution_count": 1,
   "metadata": {
    "collapsed": false
   },
   "outputs": [
    {
     "name": "stdout",
     "output_type": "stream",
     "text": [
      "\n"
     ]
    },
    {
     "ename": "IndexError",
     "evalue": "list index out of range",
     "output_type": "error",
     "traceback": [
      "\u001b[0;31m---------------------------------------------------------------------------\u001b[0m",
      "\u001b[0;31mIndexError\u001b[0m                                Traceback (most recent call last)",
      "\u001b[0;32m<ipython-input-1-b2e37f69d21a>\u001b[0m in \u001b[0;36m<module>\u001b[0;34m()\u001b[0m\n\u001b[1;32m     13\u001b[0m     \u001b[0mexit\u001b[0m\u001b[0;34m(\u001b[0m\u001b[0;34m)\u001b[0m\u001b[0;34m\u001b[0m\u001b[0m\n\u001b[1;32m     14\u001b[0m \u001b[0;34m\u001b[0m\u001b[0m\n\u001b[0;32m---> 15\u001b[0;31m \u001b[0mprev\u001b[0m \u001b[0;34m=\u001b[0m \u001b[0ms\u001b[0m\u001b[0;34m[\u001b[0m\u001b[0;36m0\u001b[0m\u001b[0;34m]\u001b[0m\u001b[0;34m\u001b[0m\u001b[0m\n\u001b[0m\u001b[1;32m     16\u001b[0m \u001b[0md\u001b[0m \u001b[0;34m=\u001b[0m \u001b[0;34m{\u001b[0m\u001b[0;34m}\u001b[0m\u001b[0;34m\u001b[0m\u001b[0m\n\u001b[1;32m     17\u001b[0m \u001b[0md\u001b[0m\u001b[0;34m[\u001b[0m\u001b[0ms\u001b[0m\u001b[0;34m[\u001b[0m\u001b[0;36m0\u001b[0m\u001b[0;34m]\u001b[0m\u001b[0;34m]\u001b[0m \u001b[0;34m=\u001b[0m \u001b[0;36m1\u001b[0m\u001b[0;34m\u001b[0m\u001b[0m\n",
      "\u001b[0;31mIndexError\u001b[0m: list index out of range"
     ]
    }
   ],
   "source": [
    "import sys \n",
    "import re\n",
    "\n",
    "myfile = open('input.txt', 'r')\n",
    "\n",
    "s = myfile.read()\n",
    "s = s.lower()\n",
    "s = re.findall(\"[a-z]\", s)\n",
    "s = sorted(s)\n",
    "\n",
    "if len(s) == 0:\n",
    "    print \"\"\n",
    "    exit()\n",
    "\n",
    "prev = s[0]\n",
    "d = {}\n",
    "d[s[0]] = 1\n",
    "for c in s[1:]:\n",
    "    if c == prev:\n",
    "        d[prev] = d[prev] + 1\n",
    "    else:\n",
    "        d[c] = 1\n",
    "    prev = c\n",
    "    \n",
    "def fun(x):\n",
    "    return [-x[1], x[0]]\n",
    "    \n",
    "sorted_x = sorted(d.items(), key=fun)\n",
    "for x in sorted_x:\n",
    "    print str(x[0]) + \": \" + str(x[1]) "
   ]
  },
  {
   "cell_type": "code",
   "execution_count": 42,
   "metadata": {
    "collapsed": false
   },
   "outputs": [
    {
     "name": "stdout",
     "output_type": "stream",
     "text": [
      "The Zen of Python, by Tim Peters\n",
      "\n",
      "Beautiful is better than ugly.\n",
      "Explicit is better than implicit.\n",
      "Simple is better than complex.\n",
      "Complex is better than complicated.\n",
      "Flat is better than nested.\n",
      "Sparse is better than dense.\n",
      "Readability counts.\n",
      "Special cases aren't special enough\n",
      "to break the rules.\n",
      "Although practicality beats purity.\n",
      "Errors should never pass silently.\n",
      "Unless explicitly silenced.\n",
      "In the face of ambiguity, refuse the\n",
      "temptation to guess.\n",
      "There should be one-- and preferably\n",
      "only one --obvious way to do it.\n",
      "Although that way may not be obvious\n",
      "at first unless you're Dutch.\n",
      "Now is better than never.\n",
      "Although never is often better than\n",
      "*right* now.\n",
      "If the implementation is hard to\n",
      "explain, it's a bad idea.\n",
      "If the implementation is easy to\n",
      "explain, it may be a good idea.\n",
      "Namespaces are one honking great\n",
      "idea -- let's do more of those!\n",
      "\n"
     ]
    }
   ],
   "source": [
    "import sys \n",
    "import re\n",
    "\n",
    "myfile = open('input.txt', 'r')\n",
    "\n",
    "n = myfile.readline()\n",
    "n = int(n)\n",
    "#print n\n",
    "\n",
    "s = myfile.read()\n",
    "words = s.split(\" \")\n",
    "#print words\n",
    "\n",
    "def add_words(n, has, words):\n",
    "    s = has\n",
    "    first = words[0]\n",
    "    if s + len(first) <= n:\n",
    "        print first,\n",
    "        s = s + len(first) + 1\n",
    "        #print 'here',\n",
    "    else:\n",
    "        if s == 0:\n",
    "            print first,\n",
    "            s = len(first) + 1\n",
    "        else:\n",
    "            print\n",
    "            print first,\n",
    "            s = len(first) + 1\n",
    "    if len(words) > 1:\n",
    "        print \n",
    "        for word in words[1:-1]:\n",
    "            print word\n",
    "        print words[-1],\n",
    "        s = len(words[-1]) + 1\n",
    "    return s\n",
    "\n",
    "s = 0\n",
    "for word in words:\n",
    "    new_words = word.split(\"\\n\")\n",
    "    s = add_words(n, s, new_words)"
   ]
  },
  {
   "cell_type": "code",
   "execution_count": null,
   "metadata": {
    "collapsed": true
   },
   "outputs": [],
   "source": []
  }
 ],
 "metadata": {
  "kernelspec": {
   "display_name": "Python [conda env:python27]",
   "language": "python",
   "name": "conda-env-python27-py"
  },
  "language_info": {
   "codemirror_mode": {
    "name": "ipython",
    "version": 2
   },
   "file_extension": ".py",
   "mimetype": "text/x-python",
   "name": "python",
   "nbconvert_exporter": "python",
   "pygments_lexer": "ipython2",
   "version": "2.7.13"
  }
 },
 "nbformat": 4,
 "nbformat_minor": 1
}
