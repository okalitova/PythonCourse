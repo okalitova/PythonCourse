{
 "cells": [
  {
   "cell_type": "code",
   "execution_count": 2,
   "metadata": {
    "collapsed": false
   },
   "outputs": [
    {
     "ename": "ValueError",
     "evalue": "invalid literal for int() with base 10: ''",
     "output_type": "error",
     "traceback": [
      "\u001b[0;31m---------------------------------------------------------------------------\u001b[0m",
      "\u001b[0;31mValueError\u001b[0m                                Traceback (most recent call last)",
      "\u001b[0;32m<ipython-input-2-e61f74b74e0b>\u001b[0m in \u001b[0;36m<module>\u001b[0;34m()\u001b[0m\n\u001b[1;32m      2\u001b[0m \u001b[0;34m\u001b[0m\u001b[0m\n\u001b[1;32m      3\u001b[0m \u001b[0mn\u001b[0m \u001b[0;34m=\u001b[0m \u001b[0msys\u001b[0m\u001b[0;34m.\u001b[0m\u001b[0mstdin\u001b[0m\u001b[0;34m.\u001b[0m\u001b[0mreadline\u001b[0m\u001b[0;34m(\u001b[0m\u001b[0;34m)\u001b[0m\u001b[0;34m\u001b[0m\u001b[0m\n\u001b[0;32m----> 4\u001b[0;31m \u001b[0mn\u001b[0m \u001b[0;34m=\u001b[0m \u001b[0mint\u001b[0m\u001b[0;34m(\u001b[0m\u001b[0mn\u001b[0m\u001b[0;34m)\u001b[0m\u001b[0;34m\u001b[0m\u001b[0m\n\u001b[0m\u001b[1;32m      5\u001b[0m \u001b[0;34m\u001b[0m\u001b[0m\n\u001b[1;32m      6\u001b[0m \u001b[0;32mfor\u001b[0m \u001b[0munused\u001b[0m \u001b[0;32min\u001b[0m \u001b[0mrange\u001b[0m\u001b[0;34m(\u001b[0m\u001b[0mn\u001b[0m\u001b[0;34m)\u001b[0m\u001b[0;34m:\u001b[0m\u001b[0;34m\u001b[0m\u001b[0m\n",
      "\u001b[0;31mValueError\u001b[0m: invalid literal for int() with base 10: ''"
     ]
    }
   ],
   "source": [
    "import sys\n",
    "\n",
    "n = sys.stdin.readline()\n",
    "n = int(n)\n",
    "\n",
    "for unused in range(n):\n",
    "    cons = sys.stdin.readline()\n",
    "    balance = []\n",
    "    ans = 0\n",
    "    for c in cons[:-1]:\n",
    "        prev_brace = balance[-1]\n",
    "        if c == '(' or c == '[' or c == '{':\n",
    "            prev_brace.append(c)\n",
    "        if c == ')':\n",
    "            if prev_brace != '(':\n",
    "                ans = 1\n",
    "                sys.stdout.write(\"No\")\n",
    "                break\n",
    "            else:\n",
    "                balance = balance[:-1]\n",
    "        if c == '}':\n",
    "            if prev_brace != '{':\n",
    "                ans = 1\n",
    "                sys.stdout.write(\"No\")\n",
    "                break\n",
    "            else:\n",
    "                balance = balance[:-1]\n",
    "        if c == ']':\n",
    "            if prev_brace != '[':\n",
    "                ans = 1\n",
    "                sys.stdout.write(\"No\")\n",
    "                break\n",
    "            else:\n",
    "                balance = balance[:-1]\n",
    "        balance.append(new_balance)\n",
    "    if ans == 0:\n",
    "        if len(balance) == 0:\n",
    "            sys.stdout.write(\"Yes\")\n",
    "        else:\n",
    "            sys.stdout.write(\"No\")\n"
   ]
  },
  {
   "cell_type": "code",
   "execution_count": null,
   "metadata": {
    "collapsed": true
   },
   "outputs": [],
   "source": []
  }
 ],
 "metadata": {
  "kernelspec": {
   "display_name": "Python [conda env:python27]",
   "language": "python",
   "name": "conda-env-python27-py"
  },
  "language_info": {
   "codemirror_mode": {
    "name": "ipython",
    "version": 2
   },
   "file_extension": ".py",
   "mimetype": "text/x-python",
   "name": "python",
   "nbconvert_exporter": "python",
   "pygments_lexer": "ipython2",
   "version": "2.7.13"
  }
 },
 "nbformat": 4,
 "nbformat_minor": 1
}
