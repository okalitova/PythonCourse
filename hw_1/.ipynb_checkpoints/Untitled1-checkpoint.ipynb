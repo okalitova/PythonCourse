{
 "cells": [
  {
   "cell_type": "code",
   "execution_count": 119,
   "metadata": {
    "collapsed": false
   },
   "outputs": [
    {
     "name": "stdout",
     "output_type": "stream",
     "text": [
      "1 2 3 5 8\n"
     ]
    }
   ],
   "source": [
    "import sys \n",
    "#import no_standard_sort\n",
    "myfile = open('input.txt', 'r')   # The file is newly created where foo.py is\n",
    "\n",
    "numbers = myfile.read().split()\n",
    "numbers = [int(n) for n in numbers]\n",
    "\n",
    "def merge_sort(x, l, r):\n",
    "    if l == r:\n",
    "        return [x[0]]\n",
    "    m = (l + r) / 2\n",
    "    x_1 = merge_sort(x[:(m + 1)], l, m)\n",
    "    x_2 = merge_sort(x[(m + 1):], 0, r - m - 1)\n",
    "    cur_1 = 0\n",
    "    cur_2 = 0\n",
    "    ans = []\n",
    "    while cur_1 < len(x_1) and cur_2 < len(x_2):\n",
    "        if (x_1[cur_1] < x_2[cur_2]):\n",
    "            ans.append(x_1[cur_1])\n",
    "            cur_1 = cur_1 + 1\n",
    "        else:\n",
    "            ans.append(x_2[cur_2])\n",
    "            cur_2 = cur_2 + 1\n",
    "    for i in range(cur_1, len(x_1)):\n",
    "        ans.append(x_1[i])\n",
    "    for i in range(cur_2, len(x_2)):\n",
    "        ans.append(x_2[i])\n",
    "    return ans\n",
    "\n",
    "if len(numbers) == 0:\n",
    "    print \"\"\n",
    "elif:\n",
    "    ans = merge_sort(numbers, 0, len(numbers) - 1)\n",
    "    for a in ans:\n",
    "        print a,\n"
   ]
  },
  {
   "cell_type": "code",
   "execution_count": 132,
   "metadata": {
    "collapsed": false
   },
   "outputs": [
    {
     "name": "stdout",
     "output_type": "stream",
     "text": [
      "['d', 'd', 'e', 'h', 'l', 'l', 'l', 'o', 'o', 'r', 'w']\n"
     ]
    }
   ],
   "source": [
    "import sys \n",
    "import re\n",
    "\n",
    "myfile = open('input.txt', 'r')\n",
    "\n",
    "s = myfile.read()\n",
    "s = s.lower()\n",
    "s = re.findall(\"[a-z]\", s)\n",
    "s = sorted(s)\n",
    "\n",
    "print s"
   ]
  },
  {
   "cell_type": "code",
   "execution_count": null,
   "metadata": {
    "collapsed": true
   },
   "outputs": [],
   "source": []
  }
 ],
 "metadata": {
  "kernelspec": {
   "display_name": "Python [conda env:python27]",
   "language": "python",
   "name": "conda-env-python27-py"
  }
 },
 "nbformat": 4,
 "nbformat_minor": 1
}
