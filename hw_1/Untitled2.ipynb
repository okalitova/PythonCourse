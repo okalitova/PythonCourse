{
 "cells": [
  {
   "cell_type": "code",
   "execution_count": 12,
   "metadata": {
    "collapsed": false
   },
   "outputs": [
    {
     "name": "stdout",
     "output_type": "stream",
     "text": [
      "1 2 3 5 8 "
     ]
    }
   ],
   "source": [
    "import sys \n",
    "#import no_standard_sort\n",
    "myfile = open('input.txt', 'r')   # The file is newly created where foo.py is\n",
    "\n",
    "numbers = myfile.read().split()\n",
    "numbers = [int(n) for n in numbers]\n",
    "\n",
    "def merge_sort(x, l, r):\n",
    "    if l == r:\n",
    "        return [x[0]]\n",
    "    m = int((l + r) / 2)\n",
    "    x_1 = merge_sort(x[:(m + 1)], l, m)\n",
    "    x_2 = merge_sort(x[(m + 1):], 0, r - m - 1)\n",
    "    cur_1 = 0\n",
    "    cur_2 = 0\n",
    "    ans = []\n",
    "    while cur_1 < len(x_1) and cur_2 < len(x_2):\n",
    "        if (x_1[cur_1] < x_2[cur_2]):\n",
    "            ans.append(x_1[cur_1])\n",
    "            cur_1 = cur_1 + 1\n",
    "        else:\n",
    "            ans.append(x_2[cur_2])\n",
    "            cur_2 = cur_2 + 1\n",
    "    for i in range(cur_1, len(x_1)):\n",
    "        ans.append(x_1[i])\n",
    "    for i in range(cur_2, len(x_2)):\n",
    "        ans.append(x_2[i])\n",
    "    return ans\n",
    "\n",
    "ans = merge_sort(numbers, 0, len(numbers) - 1)\n",
    "for a in ans:\n",
    "    sys.stdout.write(str(a) + \" \")"
   ]
  },
  {
   "cell_type": "code",
   "execution_count": 19,
   "metadata": {
    "collapsed": false
   },
   "outputs": [
    {
     "ename": "SyntaxError",
     "evalue": "Missing parentheses in call to 'print' (<ipython-input-19-6acf1dbc8c87>, line 9)",
     "output_type": "error",
     "traceback": [
      "\u001b[0;36m  File \u001b[0;32m\"<ipython-input-19-6acf1dbc8c87>\"\u001b[0;36m, line \u001b[0;32m9\u001b[0m\n\u001b[0;31m    print s\u001b[0m\n\u001b[0m          ^\u001b[0m\n\u001b[0;31mSyntaxError\u001b[0m\u001b[0;31m:\u001b[0m Missing parentheses in call to 'print'\n"
     ]
    }
   ],
   "source": [
    "import sys \n",
    "import re\n",
    "\n",
    "myfile = open('input.txt', 'r')\n",
    "\n",
    "s = myfile.read()\n",
    "re.findall('\\d+', s)\n",
    "s = re.findall(\"[a-z]\", s)\n",
    "print s"
   ]
  },
  {
   "cell_type": "code",
   "execution_count": null,
   "metadata": {
    "collapsed": true
   },
   "outputs": [],
   "source": []
  }
 ],
 "metadata": {
  "anaconda-cloud": {},
  "kernelspec": {
   "display_name": "Python [conda root]",
   "language": "python",
   "name": "conda-root-py"
  },
  "language_info": {
   "codemirror_mode": {
    "name": "ipython",
    "version": 3
   },
   "file_extension": ".py",
   "mimetype": "text/x-python",
   "name": "python",
   "nbconvert_exporter": "python",
   "pygments_lexer": "ipython3",
   "version": "3.5.2"
  }
 },
 "nbformat": 4,
 "nbformat_minor": 1
}
